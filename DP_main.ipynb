{
 "cells": [
  {
   "cell_type": "code",
   "execution_count": null,
   "metadata": {
    "colab": {
     "base_uri": "https://localhost:8080/"
    },
    "executionInfo": {
     "elapsed": 766,
     "status": "ok",
     "timestamp": 1619701902173,
     "user": {
      "displayName": "Yihan Gu",
      "photoUrl": "",
      "userId": "10286605655767466841"
     },
     "user_tz": -60
    },
    "id": "_OTwbjeVgT8B",
    "outputId": "47aa5d97-96e3-4146-e92b-d922361ee95f"
   },
   "outputs": [
    {
     "name": "stdout",
     "output_type": "stream",
     "text": [
      "Drive already mounted at /content/drive; to attempt to forcibly remount, call drive.mount(\"/content/drive\", force_remount=True).\n"
     ]
    }
   ],
   "source": [
    "from google.colab import drive\n",
    "drive.mount('/content/drive')\n"
   ]
  },
  {
   "cell_type": "code",
   "execution_count": null,
   "metadata": {
    "colab": {
     "base_uri": "https://localhost:8080/"
    },
    "executionInfo": {
     "elapsed": 4902,
     "status": "ok",
     "timestamp": 1619701906485,
     "user": {
      "displayName": "Yihan Gu",
      "photoUrl": "",
      "userId": "10286605655767466841"
     },
     "user_tz": -60
    },
    "id": "AgT1I6ckgb8d",
    "outputId": "698f4803-2575-4dc3-b205-1953217309c3"
   },
   "outputs": [
    {
     "name": "stdout",
     "output_type": "stream",
     "text": [
      "Requirement already satisfied: torchaudio in /usr/local/lib/python3.7/dist-packages (0.8.1)\n",
      "Requirement already satisfied: torch==1.8.1 in /usr/local/lib/python3.7/dist-packages (from torchaudio) (1.8.1+cu101)\n",
      "Requirement already satisfied: typing-extensions in /usr/local/lib/python3.7/dist-packages (from torch==1.8.1->torchaudio) (3.7.4.3)\n",
      "Requirement already satisfied: numpy in /usr/local/lib/python3.7/dist-packages (from torch==1.8.1->torchaudio) (1.19.5)\n"
     ]
    }
   ],
   "source": [
    "!pip install torchaudio"
   ]
  },
  {
   "cell_type": "code",
   "execution_count": null,
   "metadata": {
    "colab": {
     "base_uri": "https://localhost:8080/"
    },
    "executionInfo": {
     "elapsed": 10389,
     "status": "ok",
     "timestamp": 1619701912146,
     "user": {
      "displayName": "Yihan Gu",
      "photoUrl": "",
      "userId": "10286605655767466841"
     },
     "user_tz": -60
    },
    "id": "5_TUXbA0gb_7",
    "outputId": "bedf27b3-948b-43a1-c60f-285740cb84c4"
   },
   "outputs": [
    {
     "name": "stderr",
     "output_type": "stream",
     "text": [
      "/usr/local/lib/python3.7/dist-packages/sklearn/externals/six.py:31: FutureWarning: The module is deprecated in version 0.21 and will be removed in version 0.23 since we've dropped support for Python 2.7. Please rely on the official version of six (https://pypi.org/project/six/).\n",
      "  \"(https://pypi.org/project/six/).\", FutureWarning)\n",
      "/usr/local/lib/python3.7/dist-packages/sklearn/utils/deprecation.py:144: FutureWarning: The sklearn.neighbors.base module is  deprecated in version 0.22 and will be removed in version 0.24. The corresponding classes / functions should instead be imported from sklearn.neighbors. Anything that cannot be imported from sklearn.neighbors is now part of the private API.\n",
      "  warnings.warn(message, FutureWarning)\n"
     ]
    }
   ],
   "source": [
    "import pandas as pd\n",
    "import os\n",
    "import numpy as np\n",
    "import pickle\n",
    "import librosa\n",
    "import torchaudio\n",
    "import matplotlib.pyplot as plt \n",
    "\n",
    "from imblearn.over_sampling import SMOTE\n",
    "from collections import Counter\n",
    "\n",
    "from sklearn.model_selection import train_test_split\n",
    "from sklearn.preprocessing import LabelEncoder\n",
    "from sklearn.preprocessing import scale\n",
    "from sklearn.metrics import f1_score\n",
    "from sklearn.svm import SVC\n",
    "\n",
    "\n",
    "from keras.utils import np_utils\n",
    "from keras import backend as K\n",
    "import tensorflow as tf\n",
    "from tensorflow.keras.layers import Dense, Dropout\n",
    "from tensorflow.keras import Sequential\n",
    "from tensorflow.keras import layers\n",
    "from tensorflow.keras import activations\n",
    "from keras.wrappers.scikit_learn import KerasClassifier\n",
    "from keras.layers import Conv1D, GlobalMaxPooling1D\n",
    "from keras.layers import BatchNormalization"
   ]
  },
  {
   "cell_type": "code",
   "execution_count": null,
   "metadata": {
    "id": "Hy77nRj6gcJF"
   },
   "outputs": [],
   "source": [
    "# get train and test data\n",
    "path = \"/content/drive/MyDrive/Colab Notebooks/project/\"\n",
    "with open (path +\"pickle/train_data.plk\",'rb')  as f:\n",
    "    train= pickle.load(f)\n",
    "with open (path +\"pickle/test_data.plk\",'rb')  as f:\n",
    "    test= pickle.load(f)"
   ]
  },
  {
   "cell_type": "markdown",
   "metadata": {
    "id": "fBnLuSO9kcuT"
   },
   "source": [
    "Data Preprocessing \n"
   ]
  },
  {
   "cell_type": "code",
   "execution_count": null,
   "metadata": {
    "id": "O_d_dCq0gcNh"
   },
   "outputs": [],
   "source": [
    "#set data to np array \n",
    "x_train = np.array(train.features.tolist())\n",
    "y_train = np.array(train.label.tolist())\n",
    "x_test = np.array(test.features.tolist())\n",
    "y_test = np.array(test.label.tolist())\n",
    "\n",
    "x_test= x_test.reshape(x_test.shape[0],x_test.shape[2])\n",
    "x_train= x_train.reshape(x_train.shape[0],x_train.shape[2])\n",
    "\n",
    "# Data standardization\n",
    "x_train = scale(x_train)\n",
    "x_test = scale(x_test)\n"
   ]
  },
  {
   "cell_type": "code",
   "execution_count": null,
   "metadata": {
    "colab": {
     "base_uri": "https://localhost:8080/"
    },
    "executionInfo": {
     "elapsed": 906,
     "status": "ok",
     "timestamp": 1619703394860,
     "user": {
      "displayName": "Yihan Gu",
      "photoUrl": "",
      "userId": "10286605655767466841"
     },
     "user_tz": -60
    },
    "id": "tTtaHVxGgcST",
    "outputId": "ae0539e4-3d32-45e0-87f2-ef92e0643a24"
   },
   "outputs": [
    {
     "name": "stderr",
     "output_type": "stream",
     "text": [
      "/usr/local/lib/python3.7/dist-packages/sklearn/utils/deprecation.py:87: FutureWarning: Function safe_indexing is deprecated; safe_indexing is deprecated in version 0.22 and will be removed in version 0.24.\n",
      "  warnings.warn(msg, category=FutureWarning)\n",
      "/usr/local/lib/python3.7/dist-packages/sklearn/utils/deprecation.py:87: FutureWarning: Function safe_indexing is deprecated; safe_indexing is deprecated in version 0.22 and will be removed in version 0.24.\n",
      "  warnings.warn(msg, category=FutureWarning)\n",
      "/usr/local/lib/python3.7/dist-packages/sklearn/utils/deprecation.py:87: FutureWarning: Function safe_indexing is deprecated; safe_indexing is deprecated in version 0.22 and will be removed in version 0.24.\n",
      "  warnings.warn(msg, category=FutureWarning)\n",
      "/usr/local/lib/python3.7/dist-packages/sklearn/utils/deprecation.py:87: FutureWarning: Function safe_indexing is deprecated; safe_indexing is deprecated in version 0.22 and will be removed in version 0.24.\n",
      "  warnings.warn(msg, category=FutureWarning)\n",
      "/usr/local/lib/python3.7/dist-packages/sklearn/utils/deprecation.py:87: FutureWarning: Function safe_indexing is deprecated; safe_indexing is deprecated in version 0.22 and will be removed in version 0.24.\n",
      "  warnings.warn(msg, category=FutureWarning)\n",
      "/usr/local/lib/python3.7/dist-packages/sklearn/utils/deprecation.py:87: FutureWarning: Function safe_indexing is deprecated; safe_indexing is deprecated in version 0.22 and will be removed in version 0.24.\n",
      "  warnings.warn(msg, category=FutureWarning)\n",
      "/usr/local/lib/python3.7/dist-packages/sklearn/utils/deprecation.py:87: FutureWarning: Function safe_indexing is deprecated; safe_indexing is deprecated in version 0.22 and will be removed in version 0.24.\n",
      "  warnings.warn(msg, category=FutureWarning)\n",
      "/usr/local/lib/python3.7/dist-packages/sklearn/utils/deprecation.py:87: FutureWarning: Function safe_indexing is deprecated; safe_indexing is deprecated in version 0.22 and will be removed in version 0.24.\n",
      "  warnings.warn(msg, category=FutureWarning)\n",
      "/usr/local/lib/python3.7/dist-packages/sklearn/utils/deprecation.py:87: FutureWarning: Function safe_indexing is deprecated; safe_indexing is deprecated in version 0.22 and will be removed in version 0.24.\n",
      "  warnings.warn(msg, category=FutureWarning)\n",
      "/usr/local/lib/python3.7/dist-packages/sklearn/utils/deprecation.py:87: FutureWarning: Function safe_indexing is deprecated; safe_indexing is deprecated in version 0.22 and will be removed in version 0.24.\n",
      "  warnings.warn(msg, category=FutureWarning)\n",
      "/usr/local/lib/python3.7/dist-packages/sklearn/utils/deprecation.py:87: FutureWarning: Function safe_indexing is deprecated; safe_indexing is deprecated in version 0.22 and will be removed in version 0.24.\n",
      "  warnings.warn(msg, category=FutureWarning)\n",
      "/usr/local/lib/python3.7/dist-packages/sklearn/utils/deprecation.py:87: FutureWarning: Function safe_indexing is deprecated; safe_indexing is deprecated in version 0.22 and will be removed in version 0.24.\n",
      "  warnings.warn(msg, category=FutureWarning)\n",
      "/usr/local/lib/python3.7/dist-packages/sklearn/utils/deprecation.py:87: FutureWarning: Function safe_indexing is deprecated; safe_indexing is deprecated in version 0.22 and will be removed in version 0.24.\n",
      "  warnings.warn(msg, category=FutureWarning)\n",
      "/usr/local/lib/python3.7/dist-packages/sklearn/utils/deprecation.py:87: FutureWarning: Function safe_indexing is deprecated; safe_indexing is deprecated in version 0.22 and will be removed in version 0.24.\n",
      "  warnings.warn(msg, category=FutureWarning)\n",
      "/usr/local/lib/python3.7/dist-packages/sklearn/utils/deprecation.py:87: FutureWarning: Function safe_indexing is deprecated; safe_indexing is deprecated in version 0.22 and will be removed in version 0.24.\n",
      "  warnings.warn(msg, category=FutureWarning)\n",
      "/usr/local/lib/python3.7/dist-packages/sklearn/utils/deprecation.py:87: FutureWarning: Function safe_indexing is deprecated; safe_indexing is deprecated in version 0.22 and will be removed in version 0.24.\n",
      "  warnings.warn(msg, category=FutureWarning)\n",
      "/usr/local/lib/python3.7/dist-packages/sklearn/utils/deprecation.py:87: FutureWarning: Function safe_indexing is deprecated; safe_indexing is deprecated in version 0.22 and will be removed in version 0.24.\n",
      "  warnings.warn(msg, category=FutureWarning)\n",
      "/usr/local/lib/python3.7/dist-packages/sklearn/utils/deprecation.py:87: FutureWarning: Function safe_indexing is deprecated; safe_indexing is deprecated in version 0.22 and will be removed in version 0.24.\n",
      "  warnings.warn(msg, category=FutureWarning)\n",
      "/usr/local/lib/python3.7/dist-packages/sklearn/utils/deprecation.py:87: FutureWarning: Function safe_indexing is deprecated; safe_indexing is deprecated in version 0.22 and will be removed in version 0.24.\n",
      "  warnings.warn(msg, category=FutureWarning)\n",
      "/usr/local/lib/python3.7/dist-packages/sklearn/utils/deprecation.py:87: FutureWarning: Function safe_indexing is deprecated; safe_indexing is deprecated in version 0.22 and will be removed in version 0.24.\n",
      "  warnings.warn(msg, category=FutureWarning)\n",
      "/usr/local/lib/python3.7/dist-packages/sklearn/utils/deprecation.py:87: FutureWarning: Function safe_indexing is deprecated; safe_indexing is deprecated in version 0.22 and will be removed in version 0.24.\n",
      "  warnings.warn(msg, category=FutureWarning)\n",
      "/usr/local/lib/python3.7/dist-packages/sklearn/utils/deprecation.py:87: FutureWarning: Function safe_indexing is deprecated; safe_indexing is deprecated in version 0.22 and will be removed in version 0.24.\n",
      "  warnings.warn(msg, category=FutureWarning)\n",
      "/usr/local/lib/python3.7/dist-packages/sklearn/utils/deprecation.py:87: FutureWarning: Function safe_indexing is deprecated; safe_indexing is deprecated in version 0.22 and will be removed in version 0.24.\n",
      "  warnings.warn(msg, category=FutureWarning)\n"
     ]
    }
   ],
   "source": [
    "# Oversampling using SMOKE\n",
    "oversample = SMOTE()\n",
    "x_train, y_train = oversample.fit_resample(x_train, y_train)\n",
    "counter = Counter(y_train)\n",
    "\n",
    "# label encode\n",
    "lb = LabelEncoder()\n",
    "y_train =np_utils.to_categorical(lb.fit_transform(y_train))\n",
    "y_test =np_utils.to_categorical(lb.fit_transform(y_test))\n",
    "\n",
    "#splite train data to train set and val set \n",
    "from sklearn.model_selection import train_test_split\n",
    "x_train, x_val, y_train, y_val = train_test_split(\n",
    "    x_train,\n",
    "    y_train,\n",
    "    test_size=0.2,\n",
    "    random_state=42,\n",
    "    shuffle=True)"
   ]
  },
  {
   "cell_type": "code",
   "execution_count": null,
   "metadata": {
    "colab": {
     "base_uri": "https://localhost:8080/"
    },
    "executionInfo": {
     "elapsed": 719,
     "status": "ok",
     "timestamp": 1619703394860,
     "user": {
      "displayName": "Yihan Gu",
      "photoUrl": "",
      "userId": "10286605655767466841"
     },
     "user_tz": -60
    },
    "id": "DeQJKeqTmuBx",
    "outputId": "bc73d672-845b-4f5e-9852-adb61eff3a82"
   },
   "outputs": [
    {
     "name": "stdout",
     "output_type": "stream",
     "text": [
      "Counter({'Hi-hat': 300, 'Saxophone': 300, 'Trumpet': 300, 'Glockenspiel': 300, 'Cello': 300, 'Knock': 300, 'Gunshot_or_gunfire': 300, 'Clarinet': 300, 'Computer_keyboard': 300, 'Keys_jangling': 300, 'Snare_drum': 300, 'Writing': 300, 'Laughter': 300, 'Tearing': 300, 'Fart': 300, 'Oboe': 300, 'Flute': 300, 'Cough': 300, 'Telephone': 300, 'Bark': 300, 'Chime': 300, 'Bass_drum': 300, 'Bus': 300, 'Squeak': 300, 'Scissors': 300, 'Harmonica': 300, 'Gong': 300, 'Microwave_oven': 300, 'Burping_or_eructation': 300, 'Double_bass': 300, 'Shatter': 300, 'Fireworks': 300, 'Tambourine': 300, 'Cowbell': 300, 'Electric_piano': 300, 'Meow': 300, 'Drawer_open_or_close': 300, 'Applause': 300, 'Acoustic_guitar': 300, 'Violin_or_fiddle': 300, 'Finger_snapping': 300})\n"
     ]
    }
   ],
   "source": [
    "print(counter)"
   ]
  },
  {
   "cell_type": "markdown",
   "metadata": {
    "id": "1RXo3NBxkpzy"
   },
   "source": [
    "Evaluation Function "
   ]
  },
  {
   "cell_type": "code",
   "execution_count": null,
   "metadata": {
    "id": "jEtIU5lzju5_"
   },
   "outputs": [],
   "source": [
    "# f1_score \n",
    "def recall_m(y_true, y_pred):\n",
    "    true_positives = K.sum(K.round(K.clip(y_true * y_pred, 0, 1)))\n",
    "    possible_positives = K.sum(K.round(K.clip(y_true, 0, 1)))\n",
    "    recall = true_positives / (possible_positives + K.epsilon())\n",
    "    return recall\n",
    "\n",
    "def precision_m(y_true, y_pred):\n",
    "    true_positives = K.sum(K.round(K.clip(y_true * y_pred, 0, 1)))\n",
    "    predicted_positives = K.sum(K.round(K.clip(y_pred, 0, 1)))\n",
    "    precision = true_positives / (predicted_positives + K.epsilon())\n",
    "    return precision\n",
    "\n",
    "def F1_score(y_true, y_pred):\n",
    "    precision = precision_m(y_true, y_pred)\n",
    "    recall = recall_m(y_true, y_pred)\n",
    "    return 2*((precision*recall)/(precision+recall+K.epsilon()))"
   ]
  },
  {
   "cell_type": "markdown",
   "metadata": {
    "id": "y_Jkv3-llkO-"
   },
   "source": [
    "Build CNN model "
   ]
  },
  {
   "cell_type": "code",
   "execution_count": null,
   "metadata": {
    "id": "D2uVTTP2gcXK"
   },
   "outputs": [],
   "source": [
    "def CNN(x_train, y_train, x_val, y_val):\n",
    "    x_train = np.expand_dims(x_train, axis=-1)\n",
    "    x_val = np.expand_dims(x_val, axis=-1)\n",
    "\n",
    "    x_train = x_train.astype(float)\n",
    "    x_val = x_val.astype(float)\n",
    "\n",
    "    #Set the input and output sizes\n",
    "    input_size = x_train.shape[1] \n",
    "    output_size = y_train.shape[1] \n",
    "\n",
    "    def create_model(batch_size = 128, optimizer = 'Adam' ,dropout_rate=0.4,neurons=250,activation='relu', kernel = 3, filters = 500):\n",
    "\n",
    "        model = Sequential()\n",
    "        model.add(Conv1D(1000,\n",
    "                     input_size,\n",
    "                     padding='valid',\n",
    "                     activation=activation,\n",
    "                     strides=3))\n",
    "        model.add(BatchNormalization())\n",
    "        model.add(Dropout(dropout_rate))\n",
    "        model.add(GlobalMaxPooling1D())\n",
    "        model.add(Dense(neurons, activation=activation))\n",
    "        model.add(Dropout(dropout_rate))\n",
    "        model.add(Dense(output_size, activation='softmax'))\n",
    "        model.compile(loss = \"categorical_crossentropy\", optimizer = optimizer, metrics = [F1_score])\n",
    "        return model\n",
    "\n",
    "    early_stopping = tf.keras.callbacks.EarlyStopping(patience=10, restore_best_weights =True)\n",
    "  \n",
    "\n",
    "    model = KerasClassifier(build_fn=create_model)\n",
    "\n",
    "    history = model.fit(x_train, \n",
    "              y_train, \n",
    "              batch_size=128, \n",
    "              epochs=100, \n",
    "              callbacks=[early_stopping], # early stopping\n",
    "              validation_data=(x_val, y_val), # validation data\n",
    "              verbose = 2 \n",
    "              )\n",
    "\n",
    "\n",
    "    return history"
   ]
  },
  {
   "cell_type": "code",
   "execution_count": null,
   "metadata": {
    "colab": {
     "base_uri": "https://localhost:8080/"
    },
    "executionInfo": {
     "elapsed": 48119,
     "status": "ok",
     "timestamp": 1619703443244,
     "user": {
      "displayName": "Yihan Gu",
      "photoUrl": "",
      "userId": "10286605655767466841"
     },
     "user_tz": -60
    },
    "id": "zbCqmeFZgccE",
    "outputId": "6b9b3479-4c27-4b15-cfbb-013794936df5"
   },
   "outputs": [
    {
     "name": "stdout",
     "output_type": "stream",
     "text": [
      "Epoch 1/100\n",
      "77/77 - 3s - loss: 2.8126 - F1_score: 0.2514 - val_loss: 3.4022 - val_F1_score: 0.0000e+00\n",
      "Epoch 2/100\n",
      "77/77 - 1s - loss: 2.1106 - F1_score: 0.3998 - val_loss: 3.1564 - val_F1_score: 0.0000e+00\n",
      "Epoch 3/100\n",
      "77/77 - 1s - loss: 1.8395 - F1_score: 0.4762 - val_loss: 2.8063 - val_F1_score: 0.0031\n",
      "Epoch 4/100\n",
      "77/77 - 1s - loss: 1.6290 - F1_score: 0.5292 - val_loss: 2.2848 - val_F1_score: 0.0675\n",
      "Epoch 5/100\n",
      "77/77 - 1s - loss: 1.5179 - F1_score: 0.5522 - val_loss: 1.8158 - val_F1_score: 0.2919\n",
      "Epoch 6/100\n",
      "77/77 - 1s - loss: 1.4174 - F1_score: 0.5867 - val_loss: 1.4904 - val_F1_score: 0.4788\n",
      "Epoch 7/100\n",
      "77/77 - 1s - loss: 1.3166 - F1_score: 0.6105 - val_loss: 1.3000 - val_F1_score: 0.5959\n",
      "Epoch 8/100\n",
      "77/77 - 1s - loss: 1.2491 - F1_score: 0.6273 - val_loss: 1.2304 - val_F1_score: 0.6411\n",
      "Epoch 9/100\n",
      "77/77 - 1s - loss: 1.1941 - F1_score: 0.6466 - val_loss: 1.1756 - val_F1_score: 0.6648\n",
      "Epoch 10/100\n",
      "77/77 - 1s - loss: 1.1341 - F1_score: 0.6633 - val_loss: 1.1711 - val_F1_score: 0.6809\n",
      "Epoch 11/100\n",
      "77/77 - 1s - loss: 1.0771 - F1_score: 0.6786 - val_loss: 1.1244 - val_F1_score: 0.6965\n",
      "Epoch 12/100\n",
      "77/77 - 1s - loss: 1.0249 - F1_score: 0.6930 - val_loss: 1.1085 - val_F1_score: 0.7033\n",
      "Epoch 13/100\n",
      "77/77 - 1s - loss: 1.0047 - F1_score: 0.6982 - val_loss: 1.1215 - val_F1_score: 0.7029\n",
      "Epoch 14/100\n",
      "77/77 - 1s - loss: 0.9578 - F1_score: 0.7091 - val_loss: 1.0881 - val_F1_score: 0.7082\n",
      "Epoch 15/100\n",
      "77/77 - 1s - loss: 0.9197 - F1_score: 0.7236 - val_loss: 1.0833 - val_F1_score: 0.7170\n",
      "Epoch 16/100\n",
      "77/77 - 1s - loss: 0.8924 - F1_score: 0.7262 - val_loss: 1.0743 - val_F1_score: 0.7204\n",
      "Epoch 17/100\n",
      "77/77 - 1s - loss: 0.8717 - F1_score: 0.7362 - val_loss: 1.0617 - val_F1_score: 0.7285\n",
      "Epoch 18/100\n",
      "77/77 - 1s - loss: 0.8508 - F1_score: 0.7459 - val_loss: 1.0698 - val_F1_score: 0.7307\n",
      "Epoch 19/100\n",
      "77/77 - 1s - loss: 0.8236 - F1_score: 0.7491 - val_loss: 1.0340 - val_F1_score: 0.7370\n",
      "Epoch 20/100\n",
      "77/77 - 1s - loss: 0.7973 - F1_score: 0.7600 - val_loss: 1.0410 - val_F1_score: 0.7465\n",
      "Epoch 21/100\n",
      "77/77 - 1s - loss: 0.7731 - F1_score: 0.7690 - val_loss: 1.0609 - val_F1_score: 0.7304\n",
      "Epoch 22/100\n",
      "77/77 - 1s - loss: 0.7597 - F1_score: 0.7689 - val_loss: 1.0417 - val_F1_score: 0.7360\n",
      "Epoch 23/100\n",
      "77/77 - 1s - loss: 0.7371 - F1_score: 0.7707 - val_loss: 1.0331 - val_F1_score: 0.7425\n",
      "Epoch 24/100\n",
      "77/77 - 1s - loss: 0.7169 - F1_score: 0.7796 - val_loss: 1.0293 - val_F1_score: 0.7478\n",
      "Epoch 25/100\n",
      "77/77 - 1s - loss: 0.7001 - F1_score: 0.7819 - val_loss: 1.0341 - val_F1_score: 0.7427\n",
      "Epoch 26/100\n",
      "77/77 - 1s - loss: 0.6791 - F1_score: 0.7941 - val_loss: 1.0467 - val_F1_score: 0.7494\n",
      "Epoch 27/100\n",
      "77/77 - 1s - loss: 0.6579 - F1_score: 0.7990 - val_loss: 1.0222 - val_F1_score: 0.7516\n",
      "Epoch 28/100\n",
      "77/77 - 1s - loss: 0.6608 - F1_score: 0.7929 - val_loss: 1.0243 - val_F1_score: 0.7543\n",
      "Epoch 29/100\n",
      "77/77 - 1s - loss: 0.6373 - F1_score: 0.8050 - val_loss: 1.0201 - val_F1_score: 0.7564\n",
      "Epoch 30/100\n",
      "77/77 - 1s - loss: 0.6270 - F1_score: 0.8078 - val_loss: 1.0238 - val_F1_score: 0.7540\n",
      "Epoch 31/100\n",
      "77/77 - 1s - loss: 0.6189 - F1_score: 0.8085 - val_loss: 1.0104 - val_F1_score: 0.7646\n",
      "Epoch 32/100\n",
      "77/77 - 1s - loss: 0.5951 - F1_score: 0.8176 - val_loss: 0.9985 - val_F1_score: 0.7626\n",
      "Epoch 33/100\n",
      "77/77 - 1s - loss: 0.5917 - F1_score: 0.8141 - val_loss: 1.0076 - val_F1_score: 0.7669\n",
      "Epoch 34/100\n",
      "77/77 - 1s - loss: 0.5794 - F1_score: 0.8207 - val_loss: 1.0031 - val_F1_score: 0.7722\n",
      "Epoch 35/100\n",
      "77/77 - 1s - loss: 0.5606 - F1_score: 0.8263 - val_loss: 1.0355 - val_F1_score: 0.7678\n",
      "Epoch 36/100\n",
      "77/77 - 1s - loss: 0.5744 - F1_score: 0.8216 - val_loss: 1.0145 - val_F1_score: 0.7606\n",
      "Epoch 37/100\n",
      "77/77 - 1s - loss: 0.5529 - F1_score: 0.8285 - val_loss: 1.0022 - val_F1_score: 0.7634\n",
      "Epoch 38/100\n",
      "77/77 - 1s - loss: 0.5558 - F1_score: 0.8276 - val_loss: 1.0493 - val_F1_score: 0.7579\n",
      "Epoch 39/100\n",
      "77/77 - 1s - loss: 0.5490 - F1_score: 0.8307 - val_loss: 1.0578 - val_F1_score: 0.7668\n",
      "Epoch 40/100\n",
      "77/77 - 1s - loss: 0.5281 - F1_score: 0.8404 - val_loss: 1.0196 - val_F1_score: 0.7780\n",
      "Epoch 41/100\n",
      "77/77 - 1s - loss: 0.5122 - F1_score: 0.8428 - val_loss: 1.0005 - val_F1_score: 0.7792\n",
      "Epoch 42/100\n",
      "77/77 - 1s - loss: 0.5162 - F1_score: 0.8382 - val_loss: 1.0290 - val_F1_score: 0.7768\n"
     ]
    }
   ],
   "source": [
    "cnn= CNN(x_train, y_train, x_val, y_val)"
   ]
  },
  {
   "cell_type": "code",
   "execution_count": null,
   "metadata": {
    "colab": {
     "base_uri": "https://localhost:8080/",
     "height": 585
    },
    "executionInfo": {
     "elapsed": 48451,
     "status": "ok",
     "timestamp": 1619703443744,
     "user": {
      "displayName": "Yihan Gu",
      "photoUrl": "",
      "userId": "10286605655767466841"
     },
     "user_tz": -60
    },
    "id": "L1i18-P5rW4N",
    "outputId": "116c2bc8-90f8-4008-d20e-2a7f58f67043"
   },
   "outputs": [
    {
     "data": {
      "image/png": "[encoded data removed]",
      "text/plain": [
       "<Figure size 360x576 with 2 Axes>"
      ]
     },
     "metadata": {
      "needs_background": "light",
      "tags": []
     },
     "output_type": "display_data"
    }
   ],
   "source": [
    "\n",
    "\n",
    "def plotNetwork(history, return_fig=True):\n",
    "    fig, (ax1, ax2) = plt.subplots(nrows=2, ncols=1, figsize=(5, 8))\n",
    "    ax1.plot(history.history['F1_score'])\n",
    "    ax1.plot(history.history['val_F1_score'])\n",
    "    ax1.set_title('Model accuracy', fontsize=20)\n",
    "    ax1.set_xlabel('Epoch',fontsize=18)\n",
    "    ax1.set_ylabel('Accuracy',fontsize=18)\n",
    "    ax1.legend(['Train', 'Val'], loc='upper left')\n",
    "\n",
    "    ax2.plot(history.history['loss'])\n",
    "    ax2.plot(history.history['val_loss'])\n",
    "    ax2.set_title('Model loss',fontsize=20)\n",
    "    ax2.set_xlabel('Epoch,fontsize=18')\n",
    "    ax2.set_ylabel('Loss',fontsize=18)\n",
    "    ax2.legend(['Train', 'Val'], loc='upper left')\n",
    "\n",
    "     \n",
    "    fig.tight_layout()\n",
    "    if return_fig:\n",
    "                return fig\n",
    "fig =plotNetwork(cnn, return_fig=True)\n",
    "fig.savefig(path + \"fig/CNN.png\")\n",
    "\n"
   ]
  },
  {
   "cell_type": "code",
   "execution_count": null,
   "metadata": {
    "id": "JkxV-3RyGewG"
   },
   "outputs": [],
   "source": [
    "def mlp(x_train, y_train, x_test, y_test):\n",
    "    n_input = len(x_train[1])\n",
    "    n_hidden_1 = 200\n",
    "    n_hidden_2 = 200\n",
    "    n_classes = 41\n",
    "\n",
    "    inputs = tf.keras.Input(shape=(n_input,))\n",
    "\n",
    "    print(inputs.shape)\n",
    "\n",
    "    x = tf.keras.layers.Dense(n_hidden_1, activation='relu')(inputs)\n",
    "    x = tf.keras.layers.Dense(n_hidden_2, activation='relu')(x)\n",
    "    predictions = tf.keras.layers.Dense(n_classes, activation='softmax')(x)\n",
    "    model = tf.keras.Model(inputs=inputs, outputs=predictions)\n",
    "\n",
    "    model.compile(optimizer='Adam',\n",
    "                  loss='categorical_crossentropy',\n",
    "                  metrics=[F1_score])\n",
    "\n",
    "    early_stopping = tf.keras.callbacks.EarlyStopping(patience=5, restore_best_weights =True)\n",
    "\n",
    "    history = model.fit(x_train,\n",
    "              y_train, \n",
    "              batch_size=64, \n",
    "              epochs=100, \n",
    "              callbacks=[early_stopping],           \n",
    "              validation_data=(x_test, y_test), \n",
    "              verbose = 2 \n",
    "              )\n",
    "    return history"
   ]
  },
  {
   "cell_type": "code",
   "execution_count": null,
   "metadata": {
    "colab": {
     "base_uri": "https://localhost:8080/"
    },
    "executionInfo": {
     "elapsed": 83889,
     "status": "ok",
     "timestamp": 1619703480030,
     "user": {
      "displayName": "Yihan Gu",
      "photoUrl": "",
      "userId": "10286605655767466841"
     },
     "user_tz": -60
    },
    "id": "VGLu_NWrKMZV",
    "outputId": "17883af0-df8e-4157-def7-744514077890"
   },
   "outputs": [
    {
     "name": "stdout",
     "output_type": "stream",
     "text": [
      "(None, 68)\n",
      "Epoch 1/100\n",
      "154/154 - 1s - loss: 2.4368 - F1_score: 0.1685 - val_loss: 1.8853 - val_F1_score: 0.3735\n",
      "Epoch 2/100\n",
      "154/154 - 1s - loss: 1.6594 - F1_score: 0.4615 - val_loss: 1.6066 - val_F1_score: 0.5048\n",
      "Epoch 3/100\n",
      "154/154 - 1s - loss: 1.3866 - F1_score: 0.5694 - val_loss: 1.4894 - val_F1_score: 0.5528\n",
      "Epoch 4/100\n",
      "154/154 - 1s - loss: 1.2220 - F1_score: 0.6305 - val_loss: 1.3866 - val_F1_score: 0.6053\n",
      "Epoch 5/100\n",
      "154/154 - 1s - loss: 1.0765 - F1_score: 0.6757 - val_loss: 1.3319 - val_F1_score: 0.6309\n",
      "Epoch 6/100\n",
      "154/154 - 1s - loss: 0.9685 - F1_score: 0.7119 - val_loss: 1.3141 - val_F1_score: 0.6452\n",
      "Epoch 7/100\n",
      "154/154 - 1s - loss: 0.8726 - F1_score: 0.7423 - val_loss: 1.2440 - val_F1_score: 0.6766\n",
      "Epoch 8/100\n",
      "154/154 - 1s - loss: 0.7893 - F1_score: 0.7710 - val_loss: 1.2467 - val_F1_score: 0.6816\n",
      "Epoch 9/100\n",
      "154/154 - 0s - loss: 0.7162 - F1_score: 0.7917 - val_loss: 1.2160 - val_F1_score: 0.6935\n",
      "Epoch 10/100\n",
      "154/154 - 1s - loss: 0.6502 - F1_score: 0.8129 - val_loss: 1.2281 - val_F1_score: 0.7024\n",
      "Epoch 11/100\n",
      "154/154 - 1s - loss: 0.5946 - F1_score: 0.8318 - val_loss: 1.1761 - val_F1_score: 0.7037\n",
      "Epoch 12/100\n",
      "154/154 - 1s - loss: 0.5386 - F1_score: 0.8485 - val_loss: 1.2047 - val_F1_score: 0.7084\n",
      "Epoch 13/100\n",
      "154/154 - 1s - loss: 0.4895 - F1_score: 0.8673 - val_loss: 1.1830 - val_F1_score: 0.7231\n",
      "Epoch 14/100\n",
      "154/154 - 1s - loss: 0.4475 - F1_score: 0.8783 - val_loss: 1.1964 - val_F1_score: 0.7222\n",
      "Epoch 15/100\n",
      "154/154 - 1s - loss: 0.4123 - F1_score: 0.8892 - val_loss: 1.1863 - val_F1_score: 0.7279\n",
      "Epoch 16/100\n",
      "154/154 - 1s - loss: 0.3650 - F1_score: 0.9032 - val_loss: 1.2300 - val_F1_score: 0.7179\n"
     ]
    }
   ],
   "source": [
    "mlp = mlp(x_train, y_train, x_val, y_val)"
   ]
  },
  {
   "cell_type": "code",
   "execution_count": null,
   "metadata": {
    "colab": {
     "base_uri": "https://localhost:8080/",
     "height": 585
    },
    "executionInfo": {
     "elapsed": 84453,
     "status": "ok",
     "timestamp": 1619703480792,
     "user": {
      "displayName": "Yihan Gu",
      "photoUrl": "",
      "userId": "10286605655767466841"
     },
     "user_tz": -60
    },
    "id": "TGAJfm57KXpC",
    "outputId": "9591a09e-a9fd-40bf-9045-c9e16017fddb"
   },
   "outputs": [
    {
     "data": {
      "image/png": "[encoded data removed]",
      "text/plain": [
       "<Figure size 360x576 with 2 Axes>"
      ]
     },
     "metadata": {
      "needs_background": "light",
      "tags": []
     },
     "output_type": "display_data"
    }
   ],
   "source": [
    "fig =plotNetwork(mlp, return_fig=True)\n",
    "fig.savefig(path + \"fig/MLP.png\")"
   ]
  },
  {
   "cell_type": "code",
   "execution_count": null,
   "metadata": {
    "id": "mY2j3BypLfBF"
   },
   "outputs": [],
   "source": [
    "def cnn(x_train, y_train, x_test, y_test):\n",
    "    x_train = x_train.reshape(x_train.shape[0],17,2,2)\n",
    "    x_test = x_test.reshape(x_test.shape[0],17,2,2)\n",
    "\n",
    "    inputs = tf.keras.Input(shape=(17,2,2))\n",
    "\n",
    "    x = tf.keras.layers.Conv2D(17, kernel_size=2)(inputs)\n",
    "    x = tf.keras.layers.BatchNormalization()(x)\n",
    "    x = tf.keras.layers.Activation('relu')(x)\n",
    "    x = tf.keras.layers.MaxPooling2D(pool_size=(1, 1))(x)\n",
    "    x = tf.keras.layers.Dropout(0.2)(x)\n",
    "\n",
    "    x = tf.keras.layers.Conv2D(32, kernel_size=1)(x)\n",
    "    x = tf.keras.layers.BatchNormalization()(x)\n",
    "    x = tf.keras.layers.Activation('relu')(x)\n",
    "    x = tf.keras.layers.MaxPooling2D(pool_size=(1, 1))(x)\n",
    "    x = tf.keras.layers.Dropout(0.2)(x)\n",
    "\n",
    "    x = tf.keras.layers.Conv2D(64, kernel_size=1)(x)\n",
    "    x = tf.keras.layers.BatchNormalization()(x)\n",
    "    x = tf.keras.layers.Activation('relu')(x)\n",
    "    x = tf.keras.layers.MaxPooling2D(pool_size=(1, 1))(x)\n",
    "    x = tf.keras.layers.Dropout(0.2)(x)\n",
    "\n",
    "    x = tf.keras.layers.Flatten()(x)\n",
    "\n",
    "    x = tf.keras.layers.Dense(1000)(x)\n",
    "    x = tf.keras.layers.BatchNormalization()(x)\n",
    "    x = tf.keras.layers.Activation('relu')(x)\n",
    "\n",
    "    predictions = tf.keras.layers.Dense(41, activation='softmax')(x)\n",
    "    model = tf.keras.Model(inputs=inputs, outputs=predictions)\n",
    "\n",
    "    model.compile(optimizer='Adam',\n",
    "                  loss='categorical_crossentropy',\n",
    "                  metrics=[F1_score])\n",
    "\n",
    "    early_stopping = tf.keras.callbacks.EarlyStopping(patience=10, restore_best_weights =True)\n",
    "\n",
    "    history = model.fit(x_train,\n",
    "              y_train, \n",
    "              batch_size=128, \n",
    "              epochs=100, \n",
    "              callbacks=[early_stopping],           \n",
    "              validation_data=(x_test, y_test), \n",
    "              verbose = 2 \n",
    "              )\n",
    "    return history"
   ]
  },
  {
   "cell_type": "code",
   "execution_count": null,
   "metadata": {
    "colab": {
     "base_uri": "https://localhost:8080/"
    },
    "executionInfo": {
     "elapsed": 233263,
     "status": "ok",
     "timestamp": 1619703629933,
     "user": {
      "displayName": "Yihan Gu",
      "photoUrl": "",
      "userId": "10286605655767466841"
     },
     "user_tz": -60
    },
    "id": "_SllFvFHL39z",
    "outputId": "711316cd-6955-4208-e3b4-3817d0288652"
   },
   "outputs": [
    {
     "name": "stdout",
     "output_type": "stream",
     "text": [
      "Epoch 1/100\n",
      "77/77 - 4s - loss: 2.6569 - F1_score: 0.1661 - val_loss: 2.7302 - val_F1_score: 0.0065\n",
      "Epoch 2/100\n",
      "77/77 - 3s - loss: 1.9320 - F1_score: 0.3733 - val_loss: 2.1531 - val_F1_score: 0.1788\n",
      "Epoch 3/100\n",
      "77/77 - 3s - loss: 1.7349 - F1_score: 0.4486 - val_loss: 1.7499 - val_F1_score: 0.4290\n",
      "Epoch 4/100\n",
      "77/77 - 3s - loss: 1.5897 - F1_score: 0.5013 - val_loss: 1.5110 - val_F1_score: 0.5427\n",
      "Epoch 5/100\n",
      "77/77 - 3s - loss: 1.4778 - F1_score: 0.5358 - val_loss: 1.3906 - val_F1_score: 0.5909\n",
      "Epoch 6/100\n",
      "77/77 - 3s - loss: 1.3701 - F1_score: 0.5672 - val_loss: 1.3003 - val_F1_score: 0.6283\n",
      "Epoch 7/100\n",
      "77/77 - 3s - loss: 1.3125 - F1_score: 0.5940 - val_loss: 1.2739 - val_F1_score: 0.6402\n",
      "Epoch 8/100\n",
      "77/77 - 3s - loss: 1.2399 - F1_score: 0.6102 - val_loss: 1.2328 - val_F1_score: 0.6612\n",
      "Epoch 9/100\n",
      "77/77 - 3s - loss: 1.1795 - F1_score: 0.6301 - val_loss: 1.2308 - val_F1_score: 0.6704\n",
      "Epoch 10/100\n",
      "77/77 - 3s - loss: 1.1250 - F1_score: 0.6528 - val_loss: 1.1988 - val_F1_score: 0.6735\n",
      "Epoch 11/100\n",
      "77/77 - 3s - loss: 1.0810 - F1_score: 0.6599 - val_loss: 1.1880 - val_F1_score: 0.6726\n",
      "Epoch 12/100\n",
      "77/77 - 3s - loss: 1.0547 - F1_score: 0.6745 - val_loss: 1.1525 - val_F1_score: 0.6904\n",
      "Epoch 13/100\n",
      "77/77 - 3s - loss: 1.0166 - F1_score: 0.6835 - val_loss: 1.1073 - val_F1_score: 0.7051\n",
      "Epoch 14/100\n",
      "77/77 - 3s - loss: 0.9916 - F1_score: 0.6936 - val_loss: 1.1086 - val_F1_score: 0.7077\n",
      "Epoch 15/100\n",
      "77/77 - 3s - loss: 0.9368 - F1_score: 0.7091 - val_loss: 1.0867 - val_F1_score: 0.7184\n",
      "Epoch 16/100\n",
      "77/77 - 3s - loss: 0.9057 - F1_score: 0.7181 - val_loss: 1.1044 - val_F1_score: 0.7036\n",
      "Epoch 17/100\n",
      "77/77 - 3s - loss: 0.8485 - F1_score: 0.7377 - val_loss: 1.0887 - val_F1_score: 0.7176\n",
      "Epoch 18/100\n",
      "77/77 - 3s - loss: 0.8351 - F1_score: 0.7420 - val_loss: 1.0490 - val_F1_score: 0.7294\n",
      "Epoch 19/100\n",
      "77/77 - 3s - loss: 0.7958 - F1_score: 0.7564 - val_loss: 1.0878 - val_F1_score: 0.7149\n",
      "Epoch 20/100\n",
      "77/77 - 3s - loss: 0.7869 - F1_score: 0.7571 - val_loss: 1.0402 - val_F1_score: 0.7365\n",
      "Epoch 21/100\n",
      "77/77 - 3s - loss: 0.7553 - F1_score: 0.7672 - val_loss: 1.0352 - val_F1_score: 0.7419\n",
      "Epoch 22/100\n",
      "77/77 - 3s - loss: 0.7333 - F1_score: 0.7668 - val_loss: 1.0138 - val_F1_score: 0.7472\n",
      "Epoch 23/100\n",
      "77/77 - 3s - loss: 0.7179 - F1_score: 0.7762 - val_loss: 1.0294 - val_F1_score: 0.7441\n",
      "Epoch 24/100\n",
      "77/77 - 3s - loss: 0.6823 - F1_score: 0.7878 - val_loss: 1.0244 - val_F1_score: 0.7447\n",
      "Epoch 25/100\n",
      "77/77 - 3s - loss: 0.6553 - F1_score: 0.7979 - val_loss: 1.0016 - val_F1_score: 0.7486\n",
      "Epoch 26/100\n",
      "77/77 - 3s - loss: 0.6225 - F1_score: 0.8043 - val_loss: 0.9893 - val_F1_score: 0.7588\n",
      "Epoch 27/100\n",
      "77/77 - 3s - loss: 0.6089 - F1_score: 0.8077 - val_loss: 0.9970 - val_F1_score: 0.7542\n",
      "Epoch 28/100\n",
      "77/77 - 3s - loss: 0.5976 - F1_score: 0.8139 - val_loss: 1.0030 - val_F1_score: 0.7606\n",
      "Epoch 29/100\n",
      "77/77 - 3s - loss: 0.5749 - F1_score: 0.8194 - val_loss: 0.9932 - val_F1_score: 0.7607\n",
      "Epoch 30/100\n",
      "77/77 - 3s - loss: 0.5567 - F1_score: 0.8237 - val_loss: 0.9748 - val_F1_score: 0.7642\n",
      "Epoch 31/100\n",
      "77/77 - 3s - loss: 0.5297 - F1_score: 0.8386 - val_loss: 0.9754 - val_F1_score: 0.7634\n",
      "Epoch 32/100\n",
      "77/77 - 3s - loss: 0.5294 - F1_score: 0.8342 - val_loss: 0.9603 - val_F1_score: 0.7649\n",
      "Epoch 33/100\n",
      "77/77 - 3s - loss: 0.4974 - F1_score: 0.8454 - val_loss: 0.9731 - val_F1_score: 0.7650\n",
      "Epoch 34/100\n",
      "77/77 - 3s - loss: 0.4889 - F1_score: 0.8468 - val_loss: 0.9593 - val_F1_score: 0.7730\n",
      "Epoch 35/100\n",
      "77/77 - 3s - loss: 0.4754 - F1_score: 0.8528 - val_loss: 0.9462 - val_F1_score: 0.7783\n",
      "Epoch 36/100\n",
      "77/77 - 3s - loss: 0.4646 - F1_score: 0.8569 - val_loss: 0.9475 - val_F1_score: 0.7738\n",
      "Epoch 37/100\n",
      "77/77 - 3s - loss: 0.4557 - F1_score: 0.8581 - val_loss: 0.9833 - val_F1_score: 0.7653\n",
      "Epoch 38/100\n",
      "77/77 - 3s - loss: 0.4425 - F1_score: 0.8630 - val_loss: 1.0076 - val_F1_score: 0.7639\n",
      "Epoch 39/100\n",
      "77/77 - 3s - loss: 0.4285 - F1_score: 0.8675 - val_loss: 0.9479 - val_F1_score: 0.7810\n",
      "Epoch 40/100\n",
      "77/77 - 3s - loss: 0.4077 - F1_score: 0.8722 - val_loss: 0.9707 - val_F1_score: 0.7716\n",
      "Epoch 41/100\n",
      "77/77 - 3s - loss: 0.4020 - F1_score: 0.8732 - val_loss: 0.9742 - val_F1_score: 0.7761\n",
      "Epoch 42/100\n",
      "77/77 - 3s - loss: 0.3896 - F1_score: 0.8818 - val_loss: 0.9737 - val_F1_score: 0.7779\n",
      "Epoch 43/100\n",
      "77/77 - 3s - loss: 0.3744 - F1_score: 0.8822 - val_loss: 0.9434 - val_F1_score: 0.7834\n",
      "Epoch 44/100\n",
      "77/77 - 3s - loss: 0.3660 - F1_score: 0.8856 - val_loss: 0.9680 - val_F1_score: 0.7797\n",
      "Epoch 45/100\n",
      "77/77 - 3s - loss: 0.3560 - F1_score: 0.8857 - val_loss: 0.9799 - val_F1_score: 0.7786\n",
      "Epoch 46/100\n",
      "77/77 - 3s - loss: 0.3474 - F1_score: 0.8903 - val_loss: 0.9564 - val_F1_score: 0.7795\n",
      "Epoch 47/100\n",
      "77/77 - 3s - loss: 0.3506 - F1_score: 0.8890 - val_loss: 0.9575 - val_F1_score: 0.7831\n",
      "Epoch 48/100\n",
      "77/77 - 3s - loss: 0.3213 - F1_score: 0.8992 - val_loss: 0.9647 - val_F1_score: 0.7817\n",
      "Epoch 49/100\n",
      "77/77 - 3s - loss: 0.3109 - F1_score: 0.8995 - val_loss: 0.9500 - val_F1_score: 0.7857\n",
      "Epoch 50/100\n",
      "77/77 - 3s - loss: 0.3173 - F1_score: 0.9024 - val_loss: 0.9846 - val_F1_score: 0.7759\n",
      "Epoch 51/100\n",
      "77/77 - 3s - loss: 0.3107 - F1_score: 0.9016 - val_loss: 0.9924 - val_F1_score: 0.7761\n",
      "Epoch 52/100\n",
      "77/77 - 3s - loss: 0.3030 - F1_score: 0.9040 - val_loss: 0.9991 - val_F1_score: 0.7794\n",
      "Epoch 53/100\n",
      "77/77 - 3s - loss: 0.2891 - F1_score: 0.9090 - val_loss: 0.9814 - val_F1_score: 0.7833\n"
     ]
    }
   ],
   "source": [
    " c = cnn(x_train, y_train, x_val, y_val)"
   ]
  },
  {
   "cell_type": "code",
   "execution_count": null,
   "metadata": {
    "colab": {
     "base_uri": "https://localhost:8080/",
     "height": 585
    },
    "executionInfo": {
     "elapsed": 233598,
     "status": "ok",
     "timestamp": 1619703630437,
     "user": {
      "displayName": "Yihan Gu",
      "photoUrl": "",
      "userId": "10286605655767466841"
     },
     "user_tz": -60
    },
    "id": "8l6KoH72yuE7",
    "outputId": "386ec56d-3cb1-4830-ba7a-94a271913086"
   },
   "outputs": [
    {
     "data": {
      "image/png": "[encoded data removed]",
      "text/plain": [
       "<Figure size 360x576 with 2 Axes>"
      ]
     },
     "metadata": {
      "needs_background": "light",
      "tags": []
     },
     "output_type": "display_data"
    }
   ],
   "source": [
    "fig =plotNetwork(c, return_fig=True)\n",
    "fig.savefig(path + \"fig/2D-conv_CNN.png\")"
   ]
  },
  {
   "cell_type": "code",
   "execution_count": null,
   "metadata": {
    "id": "qZQUMA9lL5hn"
   },
   "outputs": [],
   "source": []
  }
 ],
 "metadata": {
  "colab": {
   "authorship_tag": "ABX9TyO40aM29XRe4wRoZ2tM6NlL",
   "collapsed_sections": [],
   "name": "DP_main.ipynb",
   "provenance": []
  },
  "kernelspec": {
   "display_name": "Python 3",
   "language": "python",
   "name": "python3"
  },
  "language_info": {
   "codemirror_mode": {
    "name": "ipython",
    "version": 3
   },
   "file_extension": ".py",
   "mimetype": "text/x-python",
   "name": "python",
   "nbconvert_exporter": "python",
   "pygments_lexer": "ipython3",
   "version": "3.8.5"
  }
 },
 "nbformat": 4,
 "nbformat_minor": 1
}
